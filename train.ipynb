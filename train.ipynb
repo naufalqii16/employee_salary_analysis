{
 "cells": [
  {
   "cell_type": "code",
   "execution_count": 1,
   "metadata": {},
   "outputs": [],
   "source": [
    "import pandas as pd\n",
    "import numpy as np\n",
    "import matplotlib.pyplot as plt\n",
    "import seaborn as sns"
   ]
  },
  {
   "cell_type": "code",
   "execution_count": 2,
   "metadata": {},
   "outputs": [
    {
     "data": {
      "text/html": [
       "<div>\n",
       "<style scoped>\n",
       "    .dataframe tbody tr th:only-of-type {\n",
       "        vertical-align: middle;\n",
       "    }\n",
       "\n",
       "    .dataframe tbody tr th {\n",
       "        vertical-align: top;\n",
       "    }\n",
       "\n",
       "    .dataframe thead th {\n",
       "        text-align: right;\n",
       "    }\n",
       "</style>\n",
       "<table border=\"1\" class=\"dataframe\">\n",
       "  <thead>\n",
       "    <tr style=\"text-align: right;\">\n",
       "      <th></th>\n",
       "      <th>id</th>\n",
       "      <th>job_title</th>\n",
       "      <th>location</th>\n",
       "      <th>salary_currency</th>\n",
       "      <th>career_level</th>\n",
       "      <th>experience_level</th>\n",
       "      <th>education_level</th>\n",
       "      <th>employment_type</th>\n",
       "      <th>job_function</th>\n",
       "      <th>job_benefits</th>\n",
       "      <th>company_process_time</th>\n",
       "      <th>company_size</th>\n",
       "      <th>company_industry</th>\n",
       "      <th>job_description</th>\n",
       "      <th>salary</th>\n",
       "    </tr>\n",
       "  </thead>\n",
       "  <tbody>\n",
       "    <tr>\n",
       "      <th>0</th>\n",
       "      <td>9634</td>\n",
       "      <td>CLINIC Operation Manager</td>\n",
       "      <td>Sumatera Utara</td>\n",
       "      <td>IDR</td>\n",
       "      <td>Manajer/Asisten Manajer</td>\n",
       "      <td>5 tahun</td>\n",
       "      <td>SMA, SMU/SMK/STM, Sertifikat Professional, D3 ...</td>\n",
       "      <td>Penuh Waktu</td>\n",
       "      <td>Layanan Kesehatan,Praktisi/Asisten Medis</td>\n",
       "      <td>NaN</td>\n",
       "      <td>NaN</td>\n",
       "      <td>1- 50 pekerja</td>\n",
       "      <td>Makanan &amp; Minuman/Katering/Restoran</td>\n",
       "      <td># must have good experiences in above field# e...</td>\n",
       "      <td>14000000.0</td>\n",
       "    </tr>\n",
       "    <tr>\n",
       "      <th>1</th>\n",
       "      <td>26646</td>\n",
       "      <td>Management Trainee</td>\n",
       "      <td>Aceh</td>\n",
       "      <td>IDR</td>\n",
       "      <td>Supervisor/Koordinator</td>\n",
       "      <td>1 tahun</td>\n",
       "      <td>Sertifikat Professional, D3 (Diploma), D4 (Dip...</td>\n",
       "      <td>Penuh Waktu</td>\n",
       "      <td>Penjualan / Pemasaran,Penjualan Ritel</td>\n",
       "      <td>Asuransi kesehatan;Bisnis (contoh: Kemeja)</td>\n",
       "      <td>NaN</td>\n",
       "      <td>Lebih dari 5000 pekerja</td>\n",
       "      <td>Retail/Merchandise</td>\n",
       "      <td>Lowongan ini akan mengarahkan anda langsung ke...</td>\n",
       "      <td>NaN</td>\n",
       "    </tr>\n",
       "    <tr>\n",
       "      <th>2</th>\n",
       "      <td>23840</td>\n",
       "      <td>Creative Content Creator SEO</td>\n",
       "      <td>Semarang</td>\n",
       "      <td>IDR</td>\n",
       "      <td>Supervisor/Koordinator</td>\n",
       "      <td>2 tahun</td>\n",
       "      <td>Sarjana (S1)</td>\n",
       "      <td>Penuh Waktu</td>\n",
       "      <td>Penjualan / Pemasaran,Digital Marketing</td>\n",
       "      <td>Bisnis (contoh: Kemeja);-</td>\n",
       "      <td>28 days</td>\n",
       "      <td>201 - 500 pekerja</td>\n",
       "      <td>Manufaktur/Produksi</td>\n",
       "      <td>KemampuanDapat membuat konten kreatif untuk pr...</td>\n",
       "      <td>NaN</td>\n",
       "    </tr>\n",
       "    <tr>\n",
       "      <th>3</th>\n",
       "      <td>15321</td>\n",
       "      <td>Supervisor Sales General Trade</td>\n",
       "      <td>Surabaya</td>\n",
       "      <td>IDR</td>\n",
       "      <td>Supervisor/Koordinator</td>\n",
       "      <td>2 tahun</td>\n",
       "      <td>Sarjana (S1)</td>\n",
       "      <td>Penuh Waktu</td>\n",
       "      <td>Penjualan / Pemasaran,Penjualan Ritel</td>\n",
       "      <td>Tip;Asuransi kesehatan;Penglihatan;Waktu regul...</td>\n",
       "      <td>27 days</td>\n",
       "      <td>501 - 1000 pekerja</td>\n",
       "      <td>Produk Konsumen/Barang konsumen yang bergerak ...</td>\n",
       "      <td>Job DescriptionWorking with company target and...</td>\n",
       "      <td>NaN</td>\n",
       "    </tr>\n",
       "    <tr>\n",
       "      <th>4</th>\n",
       "      <td>13672</td>\n",
       "      <td>Compensation &amp; Benefit (Payroll) SPV</td>\n",
       "      <td>Jakarta Barat</td>\n",
       "      <td>IDR</td>\n",
       "      <td>Supervisor/Koordinator</td>\n",
       "      <td>4 tahun</td>\n",
       "      <td>Sarjana (S1)</td>\n",
       "      <td>Kontrak</td>\n",
       "      <td>Sumber Daya Manusia/Personalia,Sumber Daya Man...</td>\n",
       "      <td>Asuransi kesehatan;Formil (contoh: Kemeja + Da...</td>\n",
       "      <td>19 days</td>\n",
       "      <td>51 - 200 pekerja</td>\n",
       "      <td>Automobil/Mesin Tambahan Automotif/Kendaraan</td>\n",
       "      <td>JOB DESCRIPTION·        Manage external client...</td>\n",
       "      <td>NaN</td>\n",
       "    </tr>\n",
       "  </tbody>\n",
       "</table>\n",
       "</div>"
      ],
      "text/plain": [
       "      id                             job_title        location  \\\n",
       "0   9634              CLINIC Operation Manager  Sumatera Utara   \n",
       "1  26646                    Management Trainee            Aceh   \n",
       "2  23840          Creative Content Creator SEO        Semarang   \n",
       "3  15321        Supervisor Sales General Trade        Surabaya   \n",
       "4  13672  Compensation & Benefit (Payroll) SPV   Jakarta Barat   \n",
       "\n",
       "  salary_currency             career_level experience_level  \\\n",
       "0             IDR  Manajer/Asisten Manajer          5 tahun   \n",
       "1             IDR   Supervisor/Koordinator          1 tahun   \n",
       "2             IDR   Supervisor/Koordinator          2 tahun   \n",
       "3             IDR   Supervisor/Koordinator          2 tahun   \n",
       "4             IDR   Supervisor/Koordinator          4 tahun   \n",
       "\n",
       "                                     education_level employment_type  \\\n",
       "0  SMA, SMU/SMK/STM, Sertifikat Professional, D3 ...     Penuh Waktu   \n",
       "1  Sertifikat Professional, D3 (Diploma), D4 (Dip...     Penuh Waktu   \n",
       "2                                       Sarjana (S1)     Penuh Waktu   \n",
       "3                                       Sarjana (S1)     Penuh Waktu   \n",
       "4                                       Sarjana (S1)         Kontrak   \n",
       "\n",
       "                                        job_function  \\\n",
       "0           Layanan Kesehatan,Praktisi/Asisten Medis   \n",
       "1              Penjualan / Pemasaran,Penjualan Ritel   \n",
       "2            Penjualan / Pemasaran,Digital Marketing   \n",
       "3              Penjualan / Pemasaran,Penjualan Ritel   \n",
       "4  Sumber Daya Manusia/Personalia,Sumber Daya Man...   \n",
       "\n",
       "                                        job_benefits company_process_time  \\\n",
       "0                                                NaN                  NaN   \n",
       "1         Asuransi kesehatan;Bisnis (contoh: Kemeja)                  NaN   \n",
       "2                          Bisnis (contoh: Kemeja);-              28 days   \n",
       "3  Tip;Asuransi kesehatan;Penglihatan;Waktu regul...              27 days   \n",
       "4  Asuransi kesehatan;Formil (contoh: Kemeja + Da...              19 days   \n",
       "\n",
       "              company_size                                   company_industry  \\\n",
       "0            1- 50 pekerja                Makanan & Minuman/Katering/Restoran   \n",
       "1  Lebih dari 5000 pekerja                                 Retail/Merchandise   \n",
       "2        201 - 500 pekerja                                Manufaktur/Produksi   \n",
       "3       501 - 1000 pekerja  Produk Konsumen/Barang konsumen yang bergerak ...   \n",
       "4         51 - 200 pekerja       Automobil/Mesin Tambahan Automotif/Kendaraan   \n",
       "\n",
       "                                     job_description      salary  \n",
       "0  # must have good experiences in above field# e...  14000000.0  \n",
       "1  Lowongan ini akan mengarahkan anda langsung ke...         NaN  \n",
       "2  KemampuanDapat membuat konten kreatif untuk pr...         NaN  \n",
       "3  Job DescriptionWorking with company target and...         NaN  \n",
       "4  JOB DESCRIPTION·        Manage external client...         NaN  "
      ]
     },
     "execution_count": 2,
     "metadata": {},
     "output_type": "execute_result"
    }
   ],
   "source": [
    "df = pd.read_csv('train.csv', sep='|')\n",
    "df.head()"
   ]
  },
  {
   "cell_type": "code",
   "execution_count": 3,
   "metadata": {},
   "outputs": [
    {
     "name": "stdout",
     "output_type": "stream",
     "text": [
      "size of the dataset: (25396, 15)\n",
      "columns: Index(['id', 'job_title', 'location', 'salary_currency', 'career_level',\n",
      "       'experience_level', 'education_level', 'employment_type',\n",
      "       'job_function', 'job_benefits', 'company_process_time', 'company_size',\n",
      "       'company_industry', 'job_description', 'salary'],\n",
      "      dtype='object')\n",
      "\n",
      "\n",
      "number of missing values: \n",
      "id                          0\n",
      "job_title                   0\n",
      "location                    0\n",
      "salary_currency             3\n",
      "career_level                0\n",
      "experience_level         3402\n",
      "education_level             0\n",
      "employment_type          1051\n",
      "job_function                0\n",
      "job_benefits             5258\n",
      "company_process_time     7246\n",
      "company_size             4078\n",
      "company_industry         1174\n",
      "job_description             0\n",
      "salary                  20315\n",
      "dtype: int64\n",
      "\n",
      "\n"
     ]
    }
   ],
   "source": [
    "print(f'size of the dataset: {df.shape}')\n",
    "print(f'columns: {df.columns}\\n\\n')\n",
    "print(f'number of missing values: \\n{df.isnull().sum()}\\n\\n')"
   ]
  },
  {
   "cell_type": "code",
   "execution_count": 4,
   "metadata": {},
   "outputs": [
    {
     "data": {
      "text/plain": [
       "id                      25396\n",
       "job_title               15970\n",
       "location                  194\n",
       "salary_currency             2\n",
       "career_level                6\n",
       "experience_level           19\n",
       "education_level            20\n",
       "employment_type             9\n",
       "job_function               68\n",
       "job_benefits             2728\n",
       "company_process_time       30\n",
       "company_size                7\n",
       "company_industry           58\n",
       "job_description         21918\n",
       "salary                    433\n",
       "dtype: int64"
      ]
     },
     "execution_count": 4,
     "metadata": {},
     "output_type": "execute_result"
    }
   ],
   "source": [
    "df.nunique()"
   ]
  },
  {
   "cell_type": "code",
   "execution_count": 5,
   "metadata": {},
   "outputs": [
    {
     "data": {
      "text/plain": [
       "id                         0\n",
       "job_title                  0\n",
       "location                   0\n",
       "salary_currency            0\n",
       "career_level               0\n",
       "experience_level         413\n",
       "education_level            0\n",
       "employment_type            0\n",
       "job_function               0\n",
       "job_benefits            1195\n",
       "company_process_time    1693\n",
       "company_size             736\n",
       "company_industry         156\n",
       "job_description            0\n",
       "salary                     0\n",
       "dtype: int64"
      ]
     },
     "execution_count": 5,
     "metadata": {},
     "output_type": "execute_result"
    }
   ],
   "source": [
    "df.dropna(subset=['salary'], inplace=True)\n",
    "df.isna().sum()"
   ]
  },
  {
   "cell_type": "code",
   "execution_count": 6,
   "metadata": {},
   "outputs": [
    {
     "data": {
      "text/plain": [
       "56"
      ]
     },
     "execution_count": 6,
     "metadata": {},
     "output_type": "execute_result"
    }
   ],
   "source": [
    "df['company_industry'].nunique()"
   ]
  },
  {
   "cell_type": "code",
   "execution_count": 7,
   "metadata": {},
   "outputs": [
    {
     "data": {
      "text/plain": [
       "array(['Makanan & Minuman/Katering/Restoran', 'Pertambangan',\n",
       "       'Manajemen/Konsulting HR', 'Konstruksi/Bangunan/Teknik',\n",
       "       'Asuransi', 'Periklanan/Marketing/Promosi/Hubungan Masyarakat',\n",
       "       nan, 'Manufaktur/Produksi', 'Perbankan/Pelayanan Keuangan',\n",
       "       'Komputer/Teknik Informatika (Perangkat Lunak)',\n",
       "       'Automobil/Mesin Tambahan Automotif/Kendaraan',\n",
       "       'Bahan Kimia/Pupuk/Pestisida', 'Umum & Grosir',\n",
       "       'Konsultasi (IT, Ilmu Pengetahuan, Teknis & Teknikal)',\n",
       "       'Komputer/Teknik Informatika (Perangkat Keras)', 'Kesehatan/Medis',\n",
       "       'Lingkungan/Kesehatan/Keamanan', 'Retail/Merchandise',\n",
       "       'Elektrikal & Elektronik', 'Minyak/Gas/Petroleum',\n",
       "       'Konsultasi (Bisnis & Manajemen)', 'Perawatan/Kecantikan/Fitnes',\n",
       "       'Lainnya', 'Hiburan/Media', 'Pendidikan', 'Seni/Desain/Fashion',\n",
       "       'Industri Berat/Mesin/Peralatan',\n",
       "       'Produk Konsumen/Barang konsumen yang bergerak cepat',\n",
       "       'Agrikultural/Perkebunan/Peternakan Unggas/Perikanan',\n",
       "       'Transportasi/Logistik', 'Pelayanan Arsitek/Desain Interior',\n",
       "       'Tekstil/Garment', 'Telekomunikasi', 'Properti/Real Estate',\n",
       "       'Pameran/Manajemen acara/PIKP', 'Akunting / Audit / Layanan Pajak',\n",
       "       'Percetakan/Penerbitan', 'Pelayanan Perbaikan & Pemeliharaan',\n",
       "       'Kayu/Fiber/Kertas', 'Pakaian', 'Hotel/Pariwisata',\n",
       "       'BioTeknologi/Farmasi/Riset klinik', 'Travel/Pariwisata',\n",
       "       'Polymer/Plastik/Karet/Ban',\n",
       "       'Organisasi Nirlaba/Pelayanan Sosial/LSM', 'Hukum/Legal',\n",
       "       'Pemerintahan/Pertahanan', 'Call Center/IT-Enabled Services/BPO',\n",
       "       'Kelautan/Aquakultur', 'Keamanan/Penegak hukum',\n",
       "       'Ilmu Pengetahuan & Teknologi', 'Permata/Perhiasan',\n",
       "       'Jual Beli Saham/Sekuritas', 'R&D',\n",
       "       'Layanan Umum/Tenaga Penggerak', 'Olahraga', 'Jurnalisme'],\n",
       "      dtype=object)"
      ]
     },
     "execution_count": 7,
     "metadata": {},
     "output_type": "execute_result"
    }
   ],
   "source": [
    "df['company_industry'].unique()"
   ]
  },
  {
   "cell_type": "code",
   "execution_count": 8,
   "metadata": {},
   "outputs": [
    {
     "data": {
      "text/plain": [
       "IDR    5079\n",
       "USD       2\n",
       "Name: salary_currency, dtype: int64"
      ]
     },
     "execution_count": 8,
     "metadata": {},
     "output_type": "execute_result"
    }
   ],
   "source": [
    "df['salary_currency'].value_counts()"
   ]
  },
  {
   "cell_type": "code",
   "execution_count": 9,
   "metadata": {},
   "outputs": [
    {
     "data": {
      "text/html": [
       "<div>\n",
       "<style scoped>\n",
       "    .dataframe tbody tr th:only-of-type {\n",
       "        vertical-align: middle;\n",
       "    }\n",
       "\n",
       "    .dataframe tbody tr th {\n",
       "        vertical-align: top;\n",
       "    }\n",
       "\n",
       "    .dataframe thead th {\n",
       "        text-align: right;\n",
       "    }\n",
       "</style>\n",
       "<table border=\"1\" class=\"dataframe\">\n",
       "  <thead>\n",
       "    <tr style=\"text-align: right;\">\n",
       "      <th></th>\n",
       "      <th>id</th>\n",
       "      <th>job_title</th>\n",
       "      <th>location</th>\n",
       "      <th>salary_currency</th>\n",
       "      <th>career_level</th>\n",
       "      <th>experience_level</th>\n",
       "      <th>education_level</th>\n",
       "      <th>employment_type</th>\n",
       "      <th>job_function</th>\n",
       "      <th>job_benefits</th>\n",
       "      <th>company_process_time</th>\n",
       "      <th>company_size</th>\n",
       "      <th>company_industry</th>\n",
       "      <th>job_description</th>\n",
       "      <th>salary</th>\n",
       "    </tr>\n",
       "  </thead>\n",
       "  <tbody>\n",
       "    <tr>\n",
       "      <th>13275</th>\n",
       "      <td>30896</td>\n",
       "      <td>Registered Nurse Aesthetic and Wellness</td>\n",
       "      <td>Bali</td>\n",
       "      <td>USD</td>\n",
       "      <td>Pegawai (non-manajemen &amp; non-supervisor)</td>\n",
       "      <td>2 tahun</td>\n",
       "      <td>Sarjana (S1)</td>\n",
       "      <td>Penuh Waktu</td>\n",
       "      <td>Layanan Kesehatan,Praktisi/Asisten Medis</td>\n",
       "      <td>Tip;Bisnis (contoh: Kemeja);Mon - Sat</td>\n",
       "      <td>NaN</td>\n",
       "      <td>1- 50 pekerja</td>\n",
       "      <td>Perawatan/Kecantikan/Fitnes</td>\n",
       "      <td>Registered Nurse Aesthetic and WellnessMaldive...</td>\n",
       "      <td>1005.0</td>\n",
       "    </tr>\n",
       "    <tr>\n",
       "      <th>20593</th>\n",
       "      <td>163</td>\n",
       "      <td>Digital and Social Media Executive (Travel &amp; L...</td>\n",
       "      <td>Jakarta Pusat</td>\n",
       "      <td>USD</td>\n",
       "      <td>Pegawai (non-manajemen &amp; non-supervisor)</td>\n",
       "      <td>2 tahun</td>\n",
       "      <td>Sarjana (S1)</td>\n",
       "      <td>Penuh Waktu</td>\n",
       "      <td>Penjualan / Pemasaran,Digital Marketing</td>\n",
       "      <td>Waktu regular, Senin - Jumat</td>\n",
       "      <td>29 days</td>\n",
       "      <td>1- 50 pekerja</td>\n",
       "      <td>Periklanan/Marketing/Promosi/Hubungan Masyarakat</td>\n",
       "      <td>DIGITAL / SOCIAL MEDIA EXECUTIVEWe are recruit...</td>\n",
       "      <td>665.0</td>\n",
       "    </tr>\n",
       "  </tbody>\n",
       "</table>\n",
       "</div>"
      ],
      "text/plain": [
       "          id                                          job_title  \\\n",
       "13275  30896            Registered Nurse Aesthetic and Wellness   \n",
       "20593    163  Digital and Social Media Executive (Travel & L...   \n",
       "\n",
       "            location salary_currency  \\\n",
       "13275           Bali             USD   \n",
       "20593  Jakarta Pusat             USD   \n",
       "\n",
       "                                   career_level experience_level  \\\n",
       "13275  Pegawai (non-manajemen & non-supervisor)          2 tahun   \n",
       "20593  Pegawai (non-manajemen & non-supervisor)          2 tahun   \n",
       "\n",
       "      education_level employment_type  \\\n",
       "13275    Sarjana (S1)     Penuh Waktu   \n",
       "20593    Sarjana (S1)     Penuh Waktu   \n",
       "\n",
       "                                   job_function  \\\n",
       "13275  Layanan Kesehatan,Praktisi/Asisten Medis   \n",
       "20593   Penjualan / Pemasaran,Digital Marketing   \n",
       "\n",
       "                                job_benefits company_process_time  \\\n",
       "13275  Tip;Bisnis (contoh: Kemeja);Mon - Sat                  NaN   \n",
       "20593           Waktu regular, Senin - Jumat              29 days   \n",
       "\n",
       "        company_size                                  company_industry  \\\n",
       "13275  1- 50 pekerja                       Perawatan/Kecantikan/Fitnes   \n",
       "20593  1- 50 pekerja  Periklanan/Marketing/Promosi/Hubungan Masyarakat   \n",
       "\n",
       "                                         job_description  salary  \n",
       "13275  Registered Nurse Aesthetic and WellnessMaldive...  1005.0  \n",
       "20593  DIGITAL / SOCIAL MEDIA EXECUTIVEWe are recruit...   665.0  "
      ]
     },
     "execution_count": 9,
     "metadata": {},
     "output_type": "execute_result"
    }
   ],
   "source": [
    "df[df['salary_currency'] == 'USD']"
   ]
  },
  {
   "cell_type": "code",
   "execution_count": 10,
   "metadata": {},
   "outputs": [
    {
     "data": {
      "text/plain": [
       "IDR    5081\n",
       "Name: salary_currency, dtype: int64"
      ]
     },
     "execution_count": 10,
     "metadata": {},
     "output_type": "execute_result"
    }
   ],
   "source": [
    "for i in df[df['salary_currency'] == 'USD'].index:\n",
    "    df.at[i, 'salary'] = df.at[i, 'salary'] * 15000 \n",
    "\n",
    "df['salary_currency'].replace('USD', 'IDR', inplace=True)\n",
    "df['salary_currency'].value_counts()"
   ]
  },
  {
   "cell_type": "code",
   "execution_count": 11,
   "metadata": {},
   "outputs": [
    {
     "data": {
      "text/plain": [
       "Pegawai (non-manajemen & non-supervisor)             3142\n",
       "Supervisor/Koordinator                                850\n",
       "Manajer/Asisten Manajer                               643\n",
       "Lulusan baru/Pengalaman kerja kurang dari 1 tahun     358\n",
       "CEO/GM/Direktur/Manajer Senior                         88\n",
       "Name: career_level, dtype: int64"
      ]
     },
     "execution_count": 11,
     "metadata": {},
     "output_type": "execute_result"
    }
   ],
   "source": [
    "df['career_level'].value_counts()"
   ]
  },
  {
   "cell_type": "code",
   "execution_count": 12,
   "metadata": {},
   "outputs": [
    {
     "data": {
      "text/plain": [
       "Index(['id', 'job_title', 'location', 'salary_currency', 'career_level',\n",
       "       'experience_level', 'education_level', 'employment_type',\n",
       "       'job_function', 'job_benefits', 'company_process_time', 'company_size',\n",
       "       'company_industry', 'job_description', 'salary'],\n",
       "      dtype='object')"
      ]
     },
     "execution_count": 12,
     "metadata": {},
     "output_type": "execute_result"
    }
   ],
   "source": [
    "df.columns"
   ]
  },
  {
   "cell_type": "code",
   "execution_count": 13,
   "metadata": {},
   "outputs": [],
   "source": [
    "columns_deleted = ['id', 'job_title', 'location', 'salary_currency', 'job_function', 'job_benefits', 'company_process_time', 'company_industry', 'job_description' ]\n",
    "df.drop(columns=columns_deleted, inplace=True)"
   ]
  },
  {
   "cell_type": "code",
   "execution_count": 14,
   "metadata": {},
   "outputs": [],
   "source": [
    "\n",
    "education_level_convert = {\n",
    "    'Tidak terspesifikasi' : 1,\n",
    "    'SMA, SMU/SMK/STM' : 2,\n",
    "    'Sarjana (S1)' : 3,\n",
    "    'SMA, SMU/SMK/STM, Sarjana (S1)' : 4,\n",
    "    'Sertifikat Professional, D3 (Diploma), D4 (Diploma), Sarjana (S1)' : 5,\n",
    "    'SMA, SMU/SMK/STM, Sertifikat Professional, D3 (Diploma), D4 (Diploma), Sarjana (S1)' : 5,\n",
    "    'Sertifikat Professional, D3 (Diploma), D4 (Diploma)' : 5,\n",
    "    'SMA, SMU/SMK/STM, Sertifikat Professional, D3 (Diploma), D4 (Diploma)' : 5,\n",
    "    'Sarjana (S1), Diploma Pascasarjana, Gelar Professional, Magister (S2)' : 6,\n",
    "    'Sertifikat Professional, D3 (Diploma), D4 (Diploma), Sarjana (S1), Diploma Pascasarjana, Gelar Professional, Magister (S2)' : 6,\n",
    "    'Diploma Pascasarjana, Gelar Professional, Magister (S2)' : 6,\n",
    "    'Sertifikat Professional, D3 (Diploma), D4 (Diploma), Diploma Pascasarjana, Gelar Professional, Magister (S2)' : 6,\n",
    "    'SMA, SMU/SMK/STM, Sarjana (S1), Diploma Pascasarjana, Gelar Professional, Magister (S2)' : 6,\n",
    "    'Doktor (S3)' : 7,\n",
    "    'Sarjana (S1), Doktor (S3)' : 7,\n",
    "    'Sarjana (S1), Diploma Pascasarjana, Gelar Professional, Magister (S2), Doktor (S3)' : 8,\n",
    "    'Diploma Pascasarjana, Gelar Professional, Magister (S2), Doktor (S3)' : 8,\n",
    "    'Sertifikat Professional, D3 (Diploma), D4 (Diploma), Sarjana (S1), Doktor (S3)' : 8\n",
    "\n",
    "}\n",
    "\n",
    "\n",
    "\n",
    "employment_type_convert = {\n",
    "    'Temporer' : 1,\n",
    "    'Magang' : 2,\n",
    "    'Penuh Waktu, Magang' : 2,\n",
    "    'Paruh Waktu' : 3,\n",
    "    'Penuh Waktu, Paruh Waktu' : 3,\n",
    "    'kontrak' : 4,\n",
    "    'Penuh Waktu, Kontrak' : 4,\n",
    "    'Penuh Waktu' : 5\n",
    "}\n",
    "\n",
    "career_level_mapper = {\n",
    "    'Lulusan baru/Pengalaman kerja kurang dari 1 tahun' : 1,\n",
    "    'Pegawai (non-manajemen & non-supervisor)' : 2,\n",
    "    'Supervisor/Koordinator' : 3,\n",
    "    'Manajer/Asisten Manajer' : 4,\n",
    "    'CEO/GM/Direktur/Manajer Senior' : 5\n",
    "}\n",
    "\n",
    "df['experience_level'] = df['experience_level'].str.extract(r'(\\d+)\\s+tahun')\n",
    "df['company_size'].replace({'Lebih dari 5000 pekerja' : '7', '1- 50 pekerja' : '1', '51 - 200 pekerja' : '2', '201 - 500 pekerja'  : '3', '501 - 1000 pekerja': '4', '1001 - 2000 pekerja' : '5', '2001 - 5000 pekerja' : '6'}  , inplace=True)\n",
    "\n",
    "df['education_level'] = df['education_level'].replace(education_level_convert)\n",
    "df['employment_type'] = df['employment_type'].replace(employment_type_convert)\n",
    "\n",
    "df['career_level'] = df['career_level'].map(career_level_mapper)"
   ]
  },
  {
   "cell_type": "code",
   "execution_count": 15,
   "metadata": {},
   "outputs": [
    {
     "name": "stdout",
     "output_type": "stream",
     "text": [
      "<class 'pandas.core.frame.DataFrame'>\n",
      "Int64Index: 5081 entries, 0 to 25393\n",
      "Data columns (total 6 columns):\n",
      " #   Column            Non-Null Count  Dtype  \n",
      "---  ------            --------------  -----  \n",
      " 0   career_level      5081 non-null   int64  \n",
      " 1   experience_level  4668 non-null   object \n",
      " 2   education_level   5081 non-null   int64  \n",
      " 3   employment_type   5081 non-null   object \n",
      " 4   company_size      4345 non-null   object \n",
      " 5   salary            5081 non-null   float64\n",
      "dtypes: float64(1), int64(2), object(3)\n",
      "memory usage: 406.9+ KB\n"
     ]
    }
   ],
   "source": [
    "df.info()"
   ]
  },
  {
   "cell_type": "code",
   "execution_count": 16,
   "metadata": {},
   "outputs": [
    {
     "data": {
      "text/plain": [
       "career_level          0\n",
       "experience_level    413\n",
       "education_level       0\n",
       "employment_type       0\n",
       "company_size        736\n",
       "salary                0\n",
       "dtype: int64"
      ]
     },
     "execution_count": 16,
     "metadata": {},
     "output_type": "execute_result"
    }
   ],
   "source": [
    "df.isna().sum()"
   ]
  },
  {
   "cell_type": "code",
   "execution_count": 17,
   "metadata": {},
   "outputs": [
    {
     "data": {
      "text/plain": [
       "career_level        0\n",
       "experience_level    0\n",
       "education_level     0\n",
       "employment_type     0\n",
       "company_size        0\n",
       "salary              0\n",
       "dtype: int64"
      ]
     },
     "execution_count": 17,
     "metadata": {},
     "output_type": "execute_result"
    }
   ],
   "source": [
    "df.fillna(df.mode, inplace=True)\n",
    "df.isna().sum()"
   ]
  },
  {
   "cell_type": "code",
   "execution_count": 18,
   "metadata": {},
   "outputs": [
    {
     "ename": "",
     "evalue": "",
     "output_type": "error",
     "traceback": [
      "\u001b[1;31mThe Kernel crashed while executing code in the current cell or a previous cell. \n",
      "\u001b[1;31mPlease review the code in the cell(s) to identify a possible cause of the failure. \n",
      "\u001b[1;31mClick <a href='https://aka.ms/vscodeJupyterKernelCrash'>here</a> for more info. \n",
      "\u001b[1;31mView Jupyter <a href='command:jupyter.viewOutput'>log</a> for further details."
     ]
    }
   ],
   "source": [
    "# df.to_csv('cleaned_data.csv', index=False)\n",
    "# CRASH DI SINI"
   ]
  },
  {
   "cell_type": "code",
   "execution_count": null,
   "metadata": {},
   "outputs": [
    {
     "data": {
      "text/html": [
       "<div>\n",
       "<style scoped>\n",
       "    .dataframe tbody tr th:only-of-type {\n",
       "        vertical-align: middle;\n",
       "    }\n",
       "\n",
       "    .dataframe tbody tr th {\n",
       "        vertical-align: top;\n",
       "    }\n",
       "\n",
       "    .dataframe thead th {\n",
       "        text-align: right;\n",
       "    }\n",
       "</style>\n",
       "<table border=\"1\" class=\"dataframe\">\n",
       "  <thead>\n",
       "    <tr style=\"text-align: right;\">\n",
       "      <th></th>\n",
       "      <th>education_level</th>\n",
       "      <th>salary</th>\n",
       "    </tr>\n",
       "  </thead>\n",
       "  <tbody>\n",
       "    <tr>\n",
       "      <th>education_level</th>\n",
       "      <td>1.000000</td>\n",
       "      <td>0.045623</td>\n",
       "    </tr>\n",
       "    <tr>\n",
       "      <th>salary</th>\n",
       "      <td>0.045623</td>\n",
       "      <td>1.000000</td>\n",
       "    </tr>\n",
       "  </tbody>\n",
       "</table>\n",
       "</div>"
      ],
      "text/plain": [
       "                 education_level    salary\n",
       "education_level         1.000000  0.045623\n",
       "salary                  0.045623  1.000000"
      ]
     },
     "execution_count": 32,
     "metadata": {},
     "output_type": "execute_result"
    }
   ],
   "source": [
    "df.corr()"
   ]
  },
  {
   "cell_type": "code",
   "execution_count": null,
   "metadata": {},
   "outputs": [],
   "source": [
    "from sklearn.model_selection import train_test_split\n",
    "from sklearn.linear_model import LinearRegression\n",
    "from sklearn.ensemble import RandomForestRegressor\n",
    "from sklearn.metrics import mean_squared_error\n"
   ]
  },
  {
   "cell_type": "code",
   "execution_count": null,
   "metadata": {},
   "outputs": [
    {
     "data": {
      "text/plain": [
       "experience_level    0\n",
       "education_level     0\n",
       "employment_type     0\n",
       "company_size        0\n",
       "salary              0\n",
       "dtype: int64"
      ]
     },
     "execution_count": 34,
     "metadata": {},
     "output_type": "execute_result"
    }
   ],
   "source": [
    "df.isna().sum()"
   ]
  },
  {
   "cell_type": "code",
   "execution_count": null,
   "metadata": {},
   "outputs": [
    {
     "ename": "",
     "evalue": "",
     "output_type": "error",
     "traceback": [
      "\u001b[1;31mThe Kernel crashed while executing code in the current cell or a previous cell. \n",
      "\u001b[1;31mPlease review the code in the cell(s) to identify a possible cause of the failure. \n",
      "\u001b[1;31mClick <a href='https://aka.ms/vscodeJupyterKernelCrash'>here</a> for more info. \n",
      "\u001b[1;31mView Jupyter <a href='command:jupyter.viewOutput'>log</a> for further details."
     ]
    }
   ],
   "source": [
    "# # split data\n",
    "# X_train, X_test, y_train, y_test = train_test_split(df_selected.drop('salary', axis=1), df_selected['salary'], test_size=0.2, random_state=42)\n",
    "\n",
    "# # linear regression\n",
    "# lr = LinearRegression()\n",
    "# lr.fit(X_train, y_train)\n",
    "# y_pred = lr.predict(X_test)\n",
    "\n",
    "# # random forest\n",
    "# rf = RandomForestRegressor()\n",
    "# rf.fit(X_train, y_train)\n",
    "# y_pred_rf = rf.predict(X_test)\n",
    "\n",
    "# print(f'linear regression mse: {mean_squared_error(y_test, y_pred)}')\n",
    "# print(f'random forest mse: {mean_squared_error(y_test, y_pred_rf)}')\n"
   ]
  },
  {
   "cell_type": "code",
   "execution_count": null,
   "metadata": {},
   "outputs": [],
   "source": []
  }
 ],
 "metadata": {
  "kernelspec": {
   "display_name": "Python 3",
   "language": "python",
   "name": "python3"
  },
  "language_info": {
   "codemirror_mode": {
    "name": "ipython",
    "version": 3
   },
   "file_extension": ".py",
   "mimetype": "text/x-python",
   "name": "python",
   "nbconvert_exporter": "python",
   "pygments_lexer": "ipython3",
   "version": "3.10.7"
  }
 },
 "nbformat": 4,
 "nbformat_minor": 2
}
